{
 "cells": [
  {
   "cell_type": "markdown",
   "metadata": {},
   "source": [
    "# Post-process\n"
   ]
  },
  {
   "cell_type": "markdown",
   "metadata": {},
   "source": [
    "### Removing water zones\n"
   ]
  },
  {
   "cell_type": "code",
   "execution_count": 3,
   "metadata": {},
   "outputs": [
    {
     "name": "stdout",
     "output_type": "stream",
     "text": [
      "0...10...20...30...40...50...60...70...80...90...100 - done.\n"
     ]
    }
   ],
   "source": [
    "!gdalbuildvrt ./data_results_tiles_800_800.vrt ./data/data_result/800_800/*.tif"
   ]
  },
  {
   "cell_type": "code",
   "execution_count": 6,
   "metadata": {},
   "outputs": [],
   "source": [
    "!mkdir -p ./data/water-zone/"
   ]
  },
  {
   "cell_type": "code",
   "execution_count": 7,
   "metadata": {},
   "outputs": [
    {
     "name": "stdout",
     "output_type": "stream",
     "text": [
      "--2021-05-11 18:31:31--  https://storage.googleapis.com/dym-datasets-public/fires-bariloche/water-zone/w07.tif\n",
      "Resolving storage.googleapis.com (storage.googleapis.com)... 173.194.194.128, 173.194.193.128, 74.125.69.128, ...\n",
      "Connecting to storage.googleapis.com (storage.googleapis.com)|173.194.194.128|:443... connected.\n",
      "HTTP request sent, awaiting response... 200 OK\n",
      "Length: 716238226 (683M) [image/tiff]\n",
      "Saving to: ‘./data/water-zone/w07.tif’\n",
      "\n",
      "./data/water-zone/w 100%[===================>] 683.06M   260MB/s    in 2.6s    \n",
      "\n",
      "2021-05-11 18:31:34 (260 MB/s) - ‘./data/water-zone/w07.tif’ saved [716238226/716238226]\n",
      "\n"
     ]
    }
   ],
   "source": [
    "!wget https://storage.googleapis.com/dym-datasets-public/fires-bariloche/water-zone/w07.tif -O ./data/water-zone/w07.tif"
   ]
  },
  {
   "cell_type": "code",
   "execution_count": 8,
   "metadata": {},
   "outputs": [
    {
     "name": "stdout",
     "output_type": "stream",
     "text": [
      "2021-05-11 18:31:37 (INFO) Superimpose: Default RAM limit for OTB is 256 MB\n",
      "2021-05-11 18:31:37 (INFO) Superimpose: GDAL maximum cache size is 750 MB\n",
      "2021-05-11 18:31:37 (INFO) Superimpose: OTB will use at most 4 threads\n",
      "2021-05-11 18:31:37 (INFO) Superimpose: Elevation management: setting default height above ellipsoid to 0 meters\n",
      "2021-05-11 18:31:37 (INFO): Estimated memory for full processing: 2348.29MB (avail.: 256 MB), optimal image partitioning: 10 blocks\n",
      "2021-05-11 18:31:37 (INFO): File ./data/aftermask.tif will be written in 11 blocks of 12000x1310 pixels\n",
      "Writing ./data/aftermask.tif...: 100% [**************************************************] (35s)\n"
     ]
    }
   ],
   "source": [
    "results = \"./data_results_tiles_800_800.vrt\"\n",
    "water_mask = \"./data/water-zone/w07.tif\"\n",
    "\n",
    "\n",
    "\n",
    "!bash -c \"source /opt/OTB/otbenv.profile;otbcli_Superimpose -inr $results -inm $water_mask -out ./data/aftermask.tif\"\n",
    "\n"
   ]
  }
 ],
 "metadata": {
  "colab": {
   "authorship_tag": "ABX9TyNKlws8+6PcuvJrSWdSmTxJ",
   "include_colab_link": true,
   "name": "4 - Post-procesamiento",
   "provenance": []
  },
  "kernelspec": {
   "display_name": "tf-gpu",
   "language": "python",
   "name": "tf-gpu"
  },
  "language_info": {
   "codemirror_mode": {
    "name": "ipython",
    "version": 3
   },
   "file_extension": ".py",
   "mimetype": "text/x-python",
   "name": "python",
   "nbconvert_exporter": "python",
   "pygments_lexer": "ipython3",
   "version": "3.7.10"
  },
  "toc": {
   "base_numbering": 1,
   "nav_menu": {},
   "number_sections": true,
   "sideBar": true,
   "skip_h1_title": false,
   "title_cell": "Table of Contents",
   "title_sidebar": "Contents",
   "toc_cell": false,
   "toc_position": {},
   "toc_section_display": true,
   "toc_window_display": false
  }
 },
 "nbformat": 4,
 "nbformat_minor": 4
}
