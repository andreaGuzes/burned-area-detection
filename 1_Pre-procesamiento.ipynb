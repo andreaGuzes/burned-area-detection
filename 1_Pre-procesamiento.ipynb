{
 "cells": [
  {
   "cell_type": "markdown",
   "metadata": {
    "id": "0rFd2ZvhPWBb"
   },
   "source": [
    "# Pre-process: \n"
   ]
  },
  {
   "cell_type": "markdown",
   "metadata": {},
   "source": [
    "This project uses sentinel-2 images, which can be download from Google Earth Engine. There are several reflectance bands available to use, besides a combination of them can be more sensitive to some phenomena like vegetation or water.\n",
    "\n",
    "### Normalized Burn Ratio (NBR)\n",
    "\n",
    "The Normalized Burn Ratio (NBR) is an index that highlights burnt areas in large fire zones. The formula combines the near-infrared (NIR) and shortwave infrared (SWIR) wavelengths.\n",
    "\n",
    "Healthy vegetation shows a very high reflectance in the NIR, and low reflectance in the SWIR portion of the spectrum, (see figure below). The contrary happens for areas destroyed by fire; recently burnt areas show a low reflectance in the NIR and high reflectance in the SWIR. Therefore,  the normalized difference between the NIR and the SWIR is a good discriminant for this kind of phenomenon.\n",
    "\n",
    "\n",
    "\n",
    "![fig](img/Spectral_responses.jpg)"
   ]
  },
  {
   "cell_type": "markdown",
   "metadata": {},
   "source": [
    "### Burn Severity\n",
    "The difference between the pre-fire and post-fire NBR obtained from the images is used to calculate the delta NBR. A higher value of dNBR indicates more severe damage, while areas with negative dNBR values may indicate regrowth following a fire."
   ]
  },
  {
   "cell_type": "markdown",
   "metadata": {},
   "source": [
    "## Pre-process\n"
   ]
  },
  {
   "cell_type": "markdown",
   "metadata": {},
   "source": [
    "### compute  NBR index "
   ]
  },
  {
   "cell_type": "code",
   "execution_count": null,
   "metadata": {},
   "outputs": [],
   "source": [
    "!ls data/img/5D/"
   ]
  },
  {
   "cell_type": "code",
   "execution_count": null,
   "metadata": {},
   "outputs": [],
   "source": [
    "#!source /opt/OTB/otbenv.profile"
   ]
  },
  {
   "cell_type": "markdown",
   "metadata": {},
   "source": [
    "Compute NBR index for a date before the fire incident"
   ]
  },
  {
   "cell_type": "code",
   "execution_count": null,
   "metadata": {},
   "outputs": [],
   "source": [
    "!otbcli_BandMath \\\n",
    "-il data/img/5D/2021-02-07_2021-02-28/0000000000-0000000000.tif \\\n",
    "-out ./data/img/NBR_img/NBR_2021-02-07_2021-02-28_0.tif \\\n",
    "-exp \"(im1b4 - im1b5)/(im1b4 + im1b5)\"\n"
   ]
  },
  {
   "cell_type": "markdown",
   "metadata": {},
   "source": [
    "Compute NBR index for a date after the fire incident"
   ]
  },
  {
   "cell_type": "code",
   "execution_count": null,
   "metadata": {},
   "outputs": [],
   "source": [
    "!otbcli_BandMath \\\n",
    "-il data/img/5D/2021-03-07_2021-03-29/0000000000-0000000000.tif \\\n",
    "-out ./data/img/NBR_img/NBR_2021-03-07_2021-03-29_0.tif \\\n",
    "-exp \"(im1b4 - im1b5)/(im1b4 + im1b5)\""
   ]
  },
  {
   "cell_type": "markdown",
   "metadata": {},
   "source": [
    "Compute the NBR difference"
   ]
  },
  {
   "cell_type": "code",
   "execution_count": null,
   "metadata": {},
   "outputs": [],
   "source": [
    "gdal_calc.py -A /data/img/NBR_img/NBR_2021-03-07_2021-03-29_0.tif -B ./data/img/NBR_img/NBR_2021-02-07_2021-02-28_0.tif --calc=\"(A-B)/(A+B)\" --outfile=dif_NBR_img/diff_NBR.tif"
   ]
  }
 ],
 "metadata": {
  "colab": {
   "authorship_tag": "ABX9TyNKlws8+6PcuvJrSWdSmTxJ",
   "include_colab_link": true,
   "name": "2 - Entrenamiento",
   "provenance": []
  },
  "kernelspec": {
   "display_name": "tf-gpu",
   "language": "python",
   "name": "tf-gpu"
  },
  "language_info": {
   "codemirror_mode": {
    "name": "ipython",
    "version": 3
   },
   "file_extension": ".py",
   "mimetype": "text/x-python",
   "name": "python",
   "nbconvert_exporter": "python",
   "pygments_lexer": "ipython3",
   "version": "3.7.10"
  },
  "toc": {
   "base_numbering": 1,
   "nav_menu": {},
   "number_sections": true,
   "sideBar": true,
   "skip_h1_title": false,
   "title_cell": "Table of Contents",
   "title_sidebar": "Contents",
   "toc_cell": false,
   "toc_position": {},
   "toc_section_display": true,
   "toc_window_display": false
  }
 },
 "nbformat": 4,
 "nbformat_minor": 4
}
